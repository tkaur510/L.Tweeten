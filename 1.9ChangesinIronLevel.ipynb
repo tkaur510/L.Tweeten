{
 "cells": [
  {
   "cell_type": "markdown",
   "metadata": {},
   "source": [
    "## Preface\n",
    "\n"
   ]
  },
  {
   "cell_type": "markdown",
   "metadata": {},
   "source": [
    "First, if you don&rsquo;t already have the latest version of the `cfe` package\n",
    "installed, grab it, along with some dependencies:\n",
    "\n"
   ]
  },
  {
   "cell_type": "code",
   "execution_count": 33,
   "metadata": {},
   "outputs": [
    {
     "name": "stdout",
     "output_type": "stream",
     "text": [
      "Requirement already up-to-date: CFEDemands in /srv/app/venv/lib/python3.6/site-packages\n",
      "\u001b[33mYou are using pip version 9.0.3, however version 20.1 is available.\n",
      "You should consider upgrading via the 'pip install --upgrade pip' command.\u001b[0m\n",
      "Requirement already up-to-date: xarray in /srv/app/venv/lib/python3.6/site-packages\n",
      "Requirement already up-to-date: pandas>=0.25 in /srv/app/venv/lib/python3.6/site-packages (from xarray)\n",
      "Requirement already up-to-date: numpy>=1.15 in /srv/app/venv/lib/python3.6/site-packages (from xarray)\n",
      "Requirement already up-to-date: setuptools>=41.2 in /srv/app/venv/lib/python3.6/site-packages (from xarray)\n",
      "Requirement already up-to-date: pytz>=2017.2 in /srv/app/venv/lib/python3.6/site-packages (from pandas>=0.25->xarray)\n",
      "Requirement already up-to-date: python-dateutil>=2.6.1 in /srv/app/venv/lib/python3.6/site-packages (from pandas>=0.25->xarray)\n",
      "Requirement already up-to-date: six>=1.5 in /srv/app/venv/lib/python3.6/site-packages (from python-dateutil>=2.6.1->pandas>=0.25->xarray)\n",
      "\u001b[33mYou are using pip version 9.0.3, however version 20.1 is available.\n",
      "You should consider upgrading via the 'pip install --upgrade pip' command.\u001b[0m\n",
      "Requirement already satisfied: h5netcdf in /srv/app/venv/lib/python3.6/site-packages\n",
      "Requirement already satisfied: h5py in /srv/app/venv/lib/python3.6/site-packages (from h5netcdf)\n",
      "Requirement already satisfied: six in /srv/app/venv/lib/python3.6/site-packages (from h5py->h5netcdf)\n",
      "Requirement already satisfied: numpy>=1.7 in /srv/app/venv/lib/python3.6/site-packages (from h5py->h5netcdf)\n",
      "\u001b[33mYou are using pip version 9.0.3, however version 20.1 is available.\n",
      "You should consider upgrading via the 'pip install --upgrade pip' command.\u001b[0m\n"
     ]
    }
   ],
   "source": [
    "!pip install CFEDemands --upgrade --pre\n",
    "!pip install xarray --upgrade\n",
    "!pip install h5netcdf "
   ]
  },
  {
   "cell_type": "markdown",
   "metadata": {},
   "source": [
    "Second, load relevant dataset:\n",
    "\n"
   ]
  },
  {
   "cell_type": "code",
   "execution_count": 34,
   "metadata": {},
   "outputs": [],
   "source": [
    "import cfe\n",
    "\n",
    "# Results can be made persistent by saving them, and then re-loading...\n",
    "r = cfe.from_dataset('Ethiopia_small.ds')\n",
    "\n",
    "r['alpha'] = r.alpha.loc[r.alpha>0]  # Insist on alpha positive"
   ]
  },
  {
   "cell_type": "markdown",
   "metadata": {},
   "source": [
    "## Choosing reference prices, budget, and units\n",
    "\n"
   ]
  },
  {
   "cell_type": "markdown",
   "metadata": {},
   "source": [
    "We&rsquo;ll want to choose reference prices (a choice of `t` and `m`) and\n",
    "units (`u`).  You can examine possibilities by looking at:\n",
    "\n"
   ]
  },
  {
   "cell_type": "code",
   "execution_count": 35,
   "metadata": {},
   "outputs": [
    {
     "data": {
      "text/plain": [
       "Coordinates:\n",
       "  * i        (i) object 'Banana' 'Barley' 'Beef' ... 'Tella' 'Tomato' 'Wheat'\n",
       "  * t        (t) int64 2011 2013 2015\n",
       "  * m        (m) int64 1\n",
       "  * u        (u) object '40' 'Araba' ... 'Zorba/Akara \\xa0  Small'"
      ]
     },
     "execution_count": 35,
     "metadata": {},
     "output_type": "execute_result"
    }
   ],
   "source": [
    "r.prices.coords"
   ]
  },
  {
   "cell_type": "markdown",
   "metadata": {},
   "source": [
    "Below we choose first market in first period, but this is a matter of\n",
    "choice.  We also choose prices for goods measured in &rsquo;Kilograms&rsquo;; this\n",
    "may vary with the dataset.  To inspect possible units look at:\n",
    "\n"
   ]
  },
  {
   "cell_type": "code",
   "execution_count": 36,
   "metadata": {},
   "outputs": [
    {
     "name": "stderr",
     "output_type": "stream",
     "text": [
      "/srv/app/venv/lib/python3.6/site-packages/xarray/core/nanops.py:142: RuntimeWarning: Mean of empty slice\n",
      "  return np.nanmean(a, axis=axis, dtype=dtype)\n",
      "/srv/app/venv/lib/python3.6/site-packages/xarray/core/nputils.py:215: RuntimeWarning: Degrees of freedom <= 0 for slice.\n",
      "  result = getattr(npmodule, name)(values, axis=axis, **kwargs)\n"
     ]
    },
    {
     "data": {
      "text/plain": [
       "i\n",
       "Banana            2.138573\n",
       "Barley           10.130627\n",
       "Chat / Kat        4.360239\n",
       "Cheese           38.000000\n",
       "Chick Pea        19.950864\n",
       "Coffee            0.182123\n",
       "Eggs             17.000000\n",
       "Haricot Beans     8.400000\n",
       "Horsebeans       11.201397\n",
       "Kocho             3.872905\n",
       "Lentils          25.350303\n",
       "Linseed           0.249102\n",
       "Maize             1.606267\n",
       "Meat              9.164968\n",
       "Milk             16.000000\n",
       "Millet            5.986486\n",
       "Onion             1.899735\n",
       "Potato            2.128150\n",
       "Salt              0.028861\n",
       "Sorghum           3.867222\n",
       "Sugar             0.269821\n",
       "Teff              6.893324\n",
       "Wheat             7.693904\n",
       "Name: prices, dtype: float64"
      ]
     },
     "execution_count": 36,
     "metadata": {},
     "output_type": "execute_result"
    }
   ],
   "source": [
    "t = r.firstround  # First round\n",
    "m = r.coords['m'][0] # First market\n",
    "\n",
    "# Get median budget\n",
    "x = r.get_predicted_expenditures().sum('i')\n",
    "medianx = x.where(x>0).sel(t=t,m=m).median('j').values\n",
    "\n",
    "# Note selection of prices for first market in first period for /kgs/.\n",
    "# For goods never measured in kgs prices will be missing. \n",
    "p = r.prices.sel(t=t,m=m,u='Kg',drop=True).to_dataframe().squeeze().dropna()\n",
    "p"
   ]
  },
  {
   "cell_type": "markdown",
   "metadata": {},
   "source": [
    "And with $(x,p)$ defined we can calculate example demands:\n",
    "\n"
   ]
  },
  {
   "cell_type": "code",
   "execution_count": 37,
   "metadata": {
    "scrolled": true
   },
   "outputs": [
    {
     "data": {
      "text/plain": [
       "i\n",
       "Banana            2.252682\n",
       "Barley            7.575711\n",
       "Chat / Kat        3.188113\n",
       "Chick Pea         1.389511\n",
       "Coffee           33.331246\n",
       "Eggs              0.160435\n",
       "Haricot Beans     1.785131\n",
       "Horsebeans        1.725570\n",
       "Lentils           0.273692\n",
       "Maize            21.901694\n",
       "Milk              0.348218\n",
       "Onion             2.194407\n",
       "Potato            1.472625\n",
       "Salt             68.543013\n",
       "Sorghum          29.018355\n",
       "Sugar            30.475477\n",
       "Teff              1.963178\n",
       "Wheat            12.618170\n",
       "dtype: float64"
      ]
     },
     "execution_count": 37,
     "metadata": {},
     "output_type": "execute_result"
    }
   ],
   "source": [
    "# Expenditures divided by reference prices per Kilogram\n",
    "c=(r.demands(medianx)/p).dropna()\n",
    "c"
   ]
  },
  {
   "cell_type": "markdown",
   "metadata": {},
   "source": [
    "## Mapping to Nutrients\n",
    "\n"
   ]
  },
  {
   "cell_type": "markdown",
   "metadata": {},
   "source": [
    "We&rsquo;ve seen how to map prices and budgets into vectors of consumption\n",
    "quantities using `cfe.Result.demands`.  Next we want to think about\n",
    "how to map these into bundles of *nutrients*.  The information needed\n",
    "for the mapping comes from a &ldquo;Food Conversion Table&rdquo; (or database,\n",
    "such as the [USDA Food Central Database](https://fdc.nal.usda.gov/)).   Here we&rsquo;ve adapted (with\n",
    "thanks to Alessandro Tarozzi of the Universitat Pompeu Fabra) a food\n",
    "conversion table developed by Gopalan et al (1980) to the foods\n",
    "reported in the Indian ICRISAT data:\n",
    "\n"
   ]
  },
  {
   "cell_type": "code",
   "execution_count": 38,
   "metadata": {},
   "outputs": [
    {
     "data": {
      "text/plain": [
       "Index(['Calories', 'Protein', 'Fiber', 'Folate', 'Calcium', 'Carbs', 'Iron',\n",
       "       'Magnesium', 'Niacin', 'Phosporus', 'Potassium', 'Riboflavin',\n",
       "       'Thiamin', 'Vitamin A', 'Vitamin B12', 'Vitamin B6', 'Vitamin C',\n",
       "       'Vitamin E', 'Vitamin K', 'Zinc'],\n",
       "      dtype='object')"
      ]
     },
     "execution_count": 38,
     "metadata": {},
     "output_type": "execute_result"
    }
   ],
   "source": [
    "import pandas as pd\n",
    "import numpy as np\n",
    "\n",
    "# The function below adapted from Gianmario Spacagna's suggestion at\n",
    "# https://stackoverflow.com/questions/19611729/getting-google-spreadsheet-csv-into-a-pandas-dataframe\n",
    "def dataframe_from_gspreadsheet(sheet_name, key):\n",
    "    \"\"\"Transform public google spreadsheet into pandas.DataFrame.\"\"\"\n",
    "    \n",
    "    url = 'https://docs.google.com/spreadsheets/d/{key}/gviz/tq?tqx=out:csv&sheet={sheet_name}&headers=1'.format(\n",
    "        key=key, sheet_name=sheet_name.replace(' ', '%20'))\n",
    "\n",
    "    df = pd.read_csv(url)\n",
    "\n",
    "    return df.drop([col for col in df.columns if col.startswith('Unnamed')], axis=1)\n",
    "\n",
    "# Change 'ICRISAT' sheet id to that of your own sheet\n",
    "fct = dataframe_from_gspreadsheet(\"FCT\", '1XuCmJTZOLT25gLO9uuo-_Sws6wiXCWkEbn1icnNGQM8')\n",
    "\n",
    "\n",
    "# Change some labels\n",
    "d={'Energy (kcal)':'Calories',\n",
    "   'Protein (g)':'Protein',\n",
    "   'Fiber, total dietary (g)':'Fiber',\n",
    "   'Folate, DFE (μg)':'Folate',\n",
    "   'Calcium, Ca (mg)':'Calcium',\n",
    "   'Carbohydrate, by difference (g)':'Carbs',\n",
    "   'Iron, Fe (mg)':'Iron',\n",
    "   'Magnesium, Mg (mg)':'Magnesium',\n",
    "   'Niacin (mg)':'Niacin',\n",
    "   'Phosphorus, P (mg)':'Phosporus',\n",
    "   'Potassium, K (mg)':'Potassium',\n",
    "   'Riboflavin (mg)':'Riboflavin',\n",
    "   'Thiamin (mg)':'Thiamin',\n",
    "   'ascorbic_total':'Ascorbic Acid',\n",
    "   'Vitamin A, RAE (μg)':'Vitamin A',\n",
    "   'Vitamin B-12 (μg)':'Vitamin B12',\n",
    "   'Vitamin B-6 (mg)':'Vitamin B6',\n",
    "   'Vitamin C, total ascorbic acid (mg)':'Vitamin C',\n",
    "   'Vitamin E (alpha-tocopherol) (mg)':'Vitamin E',\n",
    "   'Vitamin K (phylloquinone) (μg)':'Vitamin K',\n",
    "   'Zinc, Zn (mg)':'Zinc'}\n",
    "\n",
    "fct = fct.rename(columns=d) #[list(d.values())]\n",
    "\n",
    "# Fix capitalization (to match food labels)\n",
    "fct.index = fct.reset_index()['i'].str.title()\n",
    "del fct['i']\n",
    "del fct['ext_source']\n",
    "\n",
    "# Replace missing with zeros\n",
    "fct = fct.fillna(0)\n",
    "\n",
    "try:\n",
    "    fct.index = fct.index.droplevel('u')\n",
    "except (AttributeError,KeyError):\n",
    "    pass # No units?\n",
    "\n",
    "fct.columns"
   ]
  },
  {
   "cell_type": "markdown",
   "metadata": {},
   "source": [
    "We need the index of the Food Conversion Table (FCT) to match up with\n",
    "the index of the vector of quantities demanded.   To manage this we\n",
    "make use of the `align` method for `pd.DataFrames`:\n",
    "\n"
   ]
  },
  {
   "cell_type": "code",
   "execution_count": 39,
   "metadata": {},
   "outputs": [
    {
     "name": "stdout",
     "output_type": "stream",
     "text": [
      "Index(['Banana', 'Barley', 'Chat / Kat', 'Chick Pea', 'Eggs', 'Haricot Beans',\n",
      "       'Horsebeans', 'Lentils', 'Maize', 'Milk', 'Onion', 'Potato', 'Salt',\n",
      "       'Sorghum', 'Sugar', 'Teff', 'Wheat'],\n",
      "      dtype='object', name='i')\n"
     ]
    }
   ],
   "source": [
    "# Create a new FCT and vector of consumption that only share rows in common:\n",
    "fct = fct[~fct.index.duplicated()]\n",
    "fct0,c0 = fct.align(c,axis=0,join='inner')\n",
    "print(fct0.index)\n"
   ]
  },
  {
   "cell_type": "markdown",
   "metadata": {},
   "source": [
    "Now, since rows of `fct0` and `c0` match, we can obtain nutritional\n",
    "outcomes from the inner (or dot, or matrix) product of the transposed\n",
    "`fct0` and `c0`:\n",
    "\n"
   ]
  },
  {
   "cell_type": "code",
   "execution_count": 40,
   "metadata": {},
   "outputs": [
    {
     "data": {
      "text/plain": [
       "Calories       37878.627280\n",
       "Protein          832.790201\n",
       "Fiber            650.782320\n",
       "Folate          3743.510076\n",
       "Calcium         3044.920803\n",
       "Carbs           8478.525127\n",
       "Iron             244.637358\n",
       "Magnesium       6505.541998\n",
       "Niacin           294.625305\n",
       "Phosporus      19021.263232\n",
       "Potassium      28099.985635\n",
       "Riboflavin        14.287431\n",
       "Thiamin           22.503196\n",
       "Vitamin A        150.300059\n",
       "Vitamin B12        0.305666\n",
       "Vitamin B6        28.852608\n",
       "Vitamin C        148.758398\n",
       "Vitamin E         21.404228\n",
       "Vitamin K        174.572413\n",
       "Zinc             141.707672\n",
       "dtype: float64"
      ]
     },
     "execution_count": 40,
     "metadata": {},
     "output_type": "execute_result"
    }
   ],
   "source": [
    "# The @ operator means matrix multiply\n",
    "N = fct0.T@c0\n",
    "N"
   ]
  },
  {
   "cell_type": "markdown",
   "metadata": {},
   "source": [
    "Of course, since we can compute the nutritional content of a vector of\n",
    "consumption goods `c0`, we can also use our demand functions to\n",
    "compute nutrition as a *function* of prices and budget.\n",
    "\n"
   ]
  },
  {
   "cell_type": "code",
   "execution_count": 41,
   "metadata": {},
   "outputs": [],
   "source": [
    "def nutrient_demand(x,pscale=None,p=p):\n",
    "    c = (r.demands(x,p=pscale)/p).dropna()\n",
    "    fct0,c0 = fct.align(c,axis=0,join='inner')\n",
    "    N = fct0.T@c0\n",
    "\n",
    "    return N"
   ]
  },
  {
   "cell_type": "markdown",
   "metadata": {},
   "source": [
    "With this `nutrient_demand` function in hand, we can see how nutrient\n",
    "outcomes vary with budget, given prices:\n",
    "\n"
   ]
  },
  {
   "cell_type": "code",
   "execution_count": 48,
   "metadata": {},
   "outputs": [
    {
     "name": "stderr",
     "output_type": "stream",
     "text": [
      "/srv/app/venv/lib/python3.6/site-packages/ipykernel_launcher.py:1: SettingWithCopyWarning: \n",
      "A value is trying to be set on a copy of a slice from a DataFrame\n",
      "\n",
      "See the caveats in the documentation: https://pandas.pydata.org/pandas-docs/stable/user_guide/indexing.html#returning-a-view-versus-a-copy\n",
      "  \"\"\"Entry point for launching an IPython kernel.\n"
     ]
    }
   ],
   "source": [
    "fct.loc['Chick Pea']['Iron'] = 16"
   ]
  },
  {
   "cell_type": "code",
   "execution_count": 49,
   "metadata": {},
   "outputs": [
    {
     "data": {
      "text/plain": [
       "Text(0, 0.5, 'log nutrient')"
      ]
     },
     "execution_count": 49,
     "metadata": {},
     "output_type": "execute_result"
    },
    {
     "data": {
      "image/png": "[encoded data removed]",
      "text/plain": [
       "<Figure size 432x288 with 1 Axes>"
      ]
     },
     "metadata": {
      "needs_background": "light"
     },
     "output_type": "display_data"
    }
   ],
   "source": [
    "import numpy as np\n",
    "import matplotlib.pyplot as plt\n",
    "\n",
    "X = np.linspace(medianx/5,medianx*5,50).tolist()\n",
    "\n",
    "UseNutrients = ['Protein','Calories','Iron','Folate']\n",
    "\n",
    "# Use reference prices\n",
    "logN={}\n",
    "for myx in X:\n",
    "    logN[myx] = np.log(nutrient_demand(myx)[UseNutrients])\n",
    "    \n",
    "logN = pd.concat(logN,axis=1).T\n",
    "\n",
    "plt.plot(X,logN)\n",
    "plt.legend(UseNutrients)\n",
    "plt.xlabel('budget')\n",
    "plt.ylabel('log nutrient')"
   ]
  },
  {
   "cell_type": "markdown",
   "metadata": {},
   "source": [
    "Now how does nutrition vary with prices at median income?\n",
    "\n"
   ]
  },
  {
   "cell_type": "code",
   "execution_count": 51,
   "metadata": {},
   "outputs": [
    {
     "data": {
      "text/plain": [
       "Text(0, 0.5, 'log Nutrient')"
      ]
     },
     "execution_count": 51,
     "metadata": {},
     "output_type": "execute_result"
    },
    {
     "data": {
      "image/png": "[encoded data removed]",
      "text/plain": [
       "<Figure size 432x288 with 1 Axes>"
      ]
     },
     "metadata": {
      "needs_background": "light"
     },
     "output_type": "display_data"
    }
   ],
   "source": [
    "# Choose some good from your dataset\n",
    "USE_GOOD = 'Chick Pea'\n",
    "\n",
    "P = np.linspace(1,100,300).tolist()\n",
    "\n",
    "plt.plot(P,pd.concat({p0:np.log(nutrient_demand(medianx,pscale={USE_GOOD:p0})[UseNutrients]) for p0 in P},axis=1).T)\n",
    "plt.legend(UseNutrients)\n",
    "plt.xlabel('Price')\n",
    "plt.ylabel('log Nutrient')"
   ]
  }
 ],
 "metadata": {
  "kernelspec": {
   "display_name": "Python 3",
   "language": "python",
   "name": "python3"
  },
  "language_info": {
   "codemirror_mode": {
    "name": "ipython",
    "version": 3
   },
   "file_extension": ".py",
   "mimetype": "text/x-python",
   "name": "python",
   "nbconvert_exporter": "python",
   "pygments_lexer": "ipython3",
   "version": "3.6.9"
  },
  "org": null
 },
 "nbformat": 4,
 "nbformat_minor": 1
}
