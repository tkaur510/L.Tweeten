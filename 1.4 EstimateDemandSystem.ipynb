{
 "cells": [
  {
   "cell_type": "markdown",
   "metadata": {},
   "source": [
    "## Introduction\n",
    "\n"
   ]
  },
  {
   "cell_type": "markdown",
   "metadata": {},
   "source": [
    "In our last project we used data to estimate systems of food demand\n",
    "using different datasets.  An output from that project was as set of\n",
    "`cfe.Result` objects; these bundle together both data and the results\n",
    "from the demand system estimation, and can be used for prediction as\n",
    "well.  \n",
    "\n",
    "Here we&rsquo;ll explore some of the uses of the `cfe.Result` class, using\n",
    "an instance created using data from the Ethiopia data.\n",
    "\n",
    "If you don&rsquo;t already have the latest version of the `cfe` package\n",
    "installed, grab it, along with some dependencies:\n",
    "\n"
   ]
  },
  {
   "cell_type": "code",
   "execution_count": 1,
   "metadata": {},
   "outputs": [
    {
     "name": "stdout",
     "output_type": "stream",
     "text": [
      "Requirement already up-to-date: CFEDemands in /srv/app/venv/lib/python3.6/site-packages\n",
      "\u001b[33mYou are using pip version 9.0.3, however version 20.1 is available.\n",
      "You should consider upgrading via the 'pip install --upgrade pip' command.\u001b[0m\n",
      "Requirement already up-to-date: xarray in /srv/app/venv/lib/python3.6/site-packages\n",
      "Requirement already up-to-date: setuptools>=41.2 in /srv/app/venv/lib/python3.6/site-packages (from xarray)\n",
      "Requirement already up-to-date: numpy>=1.15 in /srv/app/venv/lib/python3.6/site-packages (from xarray)\n",
      "Requirement already up-to-date: pandas>=0.25 in /srv/app/venv/lib/python3.6/site-packages (from xarray)\n",
      "Requirement already up-to-date: pytz>=2017.2 in /srv/app/venv/lib/python3.6/site-packages (from pandas>=0.25->xarray)\n",
      "Requirement already up-to-date: python-dateutil>=2.6.1 in /srv/app/venv/lib/python3.6/site-packages (from pandas>=0.25->xarray)\n",
      "Requirement already up-to-date: six>=1.5 in /srv/app/venv/lib/python3.6/site-packages (from python-dateutil>=2.6.1->pandas>=0.25->xarray)\n",
      "\u001b[33mYou are using pip version 9.0.3, however version 20.1 is available.\n",
      "You should consider upgrading via the 'pip install --upgrade pip' command.\u001b[0m\n",
      "Requirement already satisfied: h5netcdf in /srv/app/venv/lib/python3.6/site-packages\n",
      "Requirement already satisfied: h5py in /srv/app/venv/lib/python3.6/site-packages (from h5netcdf)\n",
      "Requirement already satisfied: numpy>=1.7 in /srv/app/venv/lib/python3.6/site-packages (from h5py->h5netcdf)\n",
      "Requirement already satisfied: six in /srv/app/venv/lib/python3.6/site-packages (from h5py->h5netcdf)\n",
      "\u001b[33mYou are using pip version 9.0.3, however version 20.1 is available.\n",
      "You should consider upgrading via the 'pip install --upgrade pip' command.\u001b[0m\n"
     ]
    }
   ],
   "source": [
    "!pip install CFEDemands --upgrade --pre\n",
    "!pip install xarray --upgrade\n",
    "!pip install h5netcdf"
   ]
  },
  {
   "cell_type": "code",
   "execution_count": 2,
   "metadata": {},
   "outputs": [
    {
     "name": "stderr",
     "output_type": "stream",
     "text": [
      "/usr/lib/python3.6/abc.py:133: FutureWarning: xarray subclass Result should explicitly define __slots__\n",
      "  cls = super().__new__(mcls, name, bases, namespace, **kwargs)\n"
     ]
    }
   ],
   "source": [
    "import cfe\n",
    "\n",
    "cfe.Result?"
   ]
  },
  {
   "cell_type": "markdown",
   "metadata": {},
   "source": [
    "An instance `r` of `cfe.Result` can be made persistent with\n",
    "`r.to_dataset('my_result.ds')`, which saves the instance &ldquo;on disk&rdquo; in\n",
    "[NetCDF format](https://en.wikipedia.org/wiki/NetCDF), and can be loaded using `cfe.from_dataset`.  We use\n",
    "this method below to load data and demand system estimated from the\n",
    "Ethiopia data:\n",
    "\n"
   ]
  },
  {
   "cell_type": "code",
   "execution_count": 3,
   "metadata": {},
   "outputs": [
    {
     "name": "stderr",
     "output_type": "stream",
     "text": [
      "/srv/app/venv/lib/python3.6/site-packages/h5py/__init__.py:34: FutureWarning: Conversion of the second argument of issubdtype from `float` to `np.floating` is deprecated. In future, it will be treated as `np.float64 == np.dtype(float).type`.\n",
      "  from ._conv import register_converters as _register_converters\n"
     ]
    }
   ],
   "source": [
    "r = cfe.result.from_dataset('Ethiopia_small.ds')"
   ]
  },
  {
   "cell_type": "markdown",
   "metadata": {},
   "source": [
    "Our focus earlier was on estimation, but the result `r` already has\n",
    "encoded in it the results of that estimation.\n",
    "\n",
    "There are parameters $\\alpha$:\n",
    "\n"
   ]
  },
  {
   "cell_type": "code",
   "execution_count": 4,
   "metadata": {},
   "outputs": [
    {
     "data": {
      "text/plain": [
       "i\n",
       "Banana           1.580765\n",
       "Barley           2.345235\n",
       "Chat / Kat       3.916335\n",
       "Chick Pea        2.082343\n",
       "Coffee           2.963819\n",
       "Eggs             2.259911\n",
       "Haricot Beans    2.012021\n",
       "Horsebeans       2.359174\n",
       "Lentils          2.378202\n",
       "Maize            2.549806\n",
       "Milk             2.615847\n",
       "Onion            2.050422\n",
       "Potato           1.834936\n",
       "Salt             0.403211\n",
       "Sorghum          2.799647\n",
       "Sugar            2.239737\n",
       "Teff             3.418198\n",
       "Wheat            3.021346\n",
       "Name: alpha, dtype: float64"
      ]
     },
     "execution_count": 4,
     "metadata": {},
     "output_type": "execute_result"
    }
   ],
   "source": [
    "r.get_alpha(as_df=True).dropna()"
   ]
  },
  {
   "cell_type": "markdown",
   "metadata": {},
   "source": [
    "Elasticity parameters $\\beta$:\n",
    "\n"
   ]
  },
  {
   "cell_type": "code",
   "execution_count": 5,
   "metadata": {},
   "outputs": [
    {
     "data": {
      "text/plain": [
       "i\n",
       "Banana           0.402767\n",
       "Barley           0.929820\n",
       "Chat / Kat       0.421841\n",
       "Chick Pea        0.754155\n",
       "Coffee           0.341124\n",
       "Eggs             0.218937\n",
       "Haricot Beans    0.624633\n",
       "Horsebeans       0.632542\n",
       "Lentils          0.412041\n",
       "Maize            0.730700\n",
       "Milk             0.347794\n",
       "Onion            0.326441\n",
       "Potato           0.274735\n",
       "Salt             0.250247\n",
       "Sorghum          0.921510\n",
       "Sugar            0.461780\n",
       "Teff             0.453768\n",
       "Wheat            0.856169\n",
       "Name: beta, dtype: float64"
      ]
     },
     "execution_count": 5,
     "metadata": {},
     "output_type": "execute_result"
    }
   ],
   "source": [
    "r.get_beta(as_df=True).dropna()"
   ]
  },
  {
   "cell_type": "markdown",
   "metadata": {},
   "source": [
    "And parameters related to household characteristics $\\delta$:\n",
    "\n"
   ]
  },
  {
   "cell_type": "code",
   "execution_count": 6,
   "metadata": {},
   "outputs": [
    {
     "data": {
      "text/html": [
       "<div>\n",
       "<style scoped>\n",
       "    .dataframe tbody tr th:only-of-type {\n",
       "        vertical-align: middle;\n",
       "    }\n",
       "\n",
       "    .dataframe tbody tr th {\n",
       "        vertical-align: top;\n",
       "    }\n",
       "\n",
       "    .dataframe thead tr th {\n",
       "        text-align: left;\n",
       "    }\n",
       "\n",
       "    .dataframe thead tr:last-of-type th {\n",
       "        text-align: right;\n",
       "    }\n",
       "</style>\n",
       "<table border=\"1\" class=\"dataframe\">\n",
       "  <thead>\n",
       "    <tr>\n",
       "      <th></th>\n",
       "      <th colspan=\"14\" halign=\"left\">delta</th>\n",
       "    </tr>\n",
       "    <tr>\n",
       "      <th>k</th>\n",
       "      <th>F 0-3</th>\n",
       "      <th>F 14-18</th>\n",
       "      <th>F 19-30</th>\n",
       "      <th>F 31-50</th>\n",
       "      <th>F 4-8</th>\n",
       "      <th>F 51+</th>\n",
       "      <th>F 9-13</th>\n",
       "      <th>M 0-3</th>\n",
       "      <th>M 14-18</th>\n",
       "      <th>M 19-30</th>\n",
       "      <th>M 31-50</th>\n",
       "      <th>M 4-8</th>\n",
       "      <th>M 51+</th>\n",
       "      <th>M 9-13</th>\n",
       "    </tr>\n",
       "    <tr>\n",
       "      <th>i</th>\n",
       "      <th></th>\n",
       "      <th></th>\n",
       "      <th></th>\n",
       "      <th></th>\n",
       "      <th></th>\n",
       "      <th></th>\n",
       "      <th></th>\n",
       "      <th></th>\n",
       "      <th></th>\n",
       "      <th></th>\n",
       "      <th></th>\n",
       "      <th></th>\n",
       "      <th></th>\n",
       "      <th></th>\n",
       "    </tr>\n",
       "  </thead>\n",
       "  <tbody>\n",
       "    <tr>\n",
       "      <th>Banana</th>\n",
       "      <td>-0.041680</td>\n",
       "      <td>0.135124</td>\n",
       "      <td>0.119469</td>\n",
       "      <td>0.058901</td>\n",
       "      <td>-0.062178</td>\n",
       "      <td>0.057870</td>\n",
       "      <td>-0.020986</td>\n",
       "      <td>0.028977</td>\n",
       "      <td>0.019001</td>\n",
       "      <td>0.092642</td>\n",
       "      <td>0.227240</td>\n",
       "      <td>-0.055562</td>\n",
       "      <td>0.065332</td>\n",
       "      <td>-0.074827</td>\n",
       "    </tr>\n",
       "    <tr>\n",
       "      <th>Barley</th>\n",
       "      <td>0.060847</td>\n",
       "      <td>0.160156</td>\n",
       "      <td>0.181576</td>\n",
       "      <td>0.065316</td>\n",
       "      <td>0.003294</td>\n",
       "      <td>0.066492</td>\n",
       "      <td>0.131837</td>\n",
       "      <td>0.046245</td>\n",
       "      <td>0.138875</td>\n",
       "      <td>0.099159</td>\n",
       "      <td>0.059256</td>\n",
       "      <td>0.011783</td>\n",
       "      <td>-0.016253</td>\n",
       "      <td>-0.028107</td>\n",
       "    </tr>\n",
       "    <tr>\n",
       "      <th>Chat / Kat</th>\n",
       "      <td>0.183911</td>\n",
       "      <td>-0.084609</td>\n",
       "      <td>-0.012299</td>\n",
       "      <td>-0.125368</td>\n",
       "      <td>0.052870</td>\n",
       "      <td>0.051837</td>\n",
       "      <td>0.061692</td>\n",
       "      <td>0.038726</td>\n",
       "      <td>0.014287</td>\n",
       "      <td>0.207572</td>\n",
       "      <td>0.251498</td>\n",
       "      <td>0.116725</td>\n",
       "      <td>0.226806</td>\n",
       "      <td>0.041379</td>\n",
       "    </tr>\n",
       "    <tr>\n",
       "      <th>Chick Pea</th>\n",
       "      <td>-0.058922</td>\n",
       "      <td>0.076973</td>\n",
       "      <td>0.103839</td>\n",
       "      <td>0.154312</td>\n",
       "      <td>0.080259</td>\n",
       "      <td>0.109017</td>\n",
       "      <td>0.111385</td>\n",
       "      <td>0.014251</td>\n",
       "      <td>0.096653</td>\n",
       "      <td>0.132291</td>\n",
       "      <td>0.201317</td>\n",
       "      <td>0.077510</td>\n",
       "      <td>0.198193</td>\n",
       "      <td>0.095822</td>\n",
       "    </tr>\n",
       "    <tr>\n",
       "      <th>Coffee</th>\n",
       "      <td>0.049136</td>\n",
       "      <td>0.064365</td>\n",
       "      <td>0.132727</td>\n",
       "      <td>0.119389</td>\n",
       "      <td>0.000534</td>\n",
       "      <td>0.011545</td>\n",
       "      <td>0.008041</td>\n",
       "      <td>-0.007486</td>\n",
       "      <td>-0.013776</td>\n",
       "      <td>0.122627</td>\n",
       "      <td>0.101183</td>\n",
       "      <td>0.044945</td>\n",
       "      <td>0.103896</td>\n",
       "      <td>-0.063190</td>\n",
       "    </tr>\n",
       "    <tr>\n",
       "      <th>Eggs</th>\n",
       "      <td>-0.051808</td>\n",
       "      <td>0.097252</td>\n",
       "      <td>0.140007</td>\n",
       "      <td>0.087295</td>\n",
       "      <td>-0.026832</td>\n",
       "      <td>0.132824</td>\n",
       "      <td>-0.002785</td>\n",
       "      <td>0.057078</td>\n",
       "      <td>0.057878</td>\n",
       "      <td>0.092305</td>\n",
       "      <td>0.179983</td>\n",
       "      <td>-0.064904</td>\n",
       "      <td>0.120536</td>\n",
       "      <td>-0.025731</td>\n",
       "    </tr>\n",
       "    <tr>\n",
       "      <th>Haricot Beans</th>\n",
       "      <td>0.151469</td>\n",
       "      <td>0.093367</td>\n",
       "      <td>-0.022535</td>\n",
       "      <td>0.114972</td>\n",
       "      <td>0.178256</td>\n",
       "      <td>0.319418</td>\n",
       "      <td>0.101808</td>\n",
       "      <td>0.120848</td>\n",
       "      <td>0.153752</td>\n",
       "      <td>0.144374</td>\n",
       "      <td>0.068811</td>\n",
       "      <td>0.139900</td>\n",
       "      <td>0.225381</td>\n",
       "      <td>0.123124</td>\n",
       "    </tr>\n",
       "    <tr>\n",
       "      <th>Horsebeans</th>\n",
       "      <td>0.071565</td>\n",
       "      <td>0.102440</td>\n",
       "      <td>0.084509</td>\n",
       "      <td>0.073768</td>\n",
       "      <td>0.035107</td>\n",
       "      <td>0.101438</td>\n",
       "      <td>0.080538</td>\n",
       "      <td>0.036428</td>\n",
       "      <td>0.068877</td>\n",
       "      <td>0.159912</td>\n",
       "      <td>0.099053</td>\n",
       "      <td>0.095341</td>\n",
       "      <td>0.160418</td>\n",
       "      <td>0.103697</td>\n",
       "    </tr>\n",
       "    <tr>\n",
       "      <th>Lentils</th>\n",
       "      <td>0.033975</td>\n",
       "      <td>0.076014</td>\n",
       "      <td>0.116623</td>\n",
       "      <td>0.118979</td>\n",
       "      <td>0.031286</td>\n",
       "      <td>0.032777</td>\n",
       "      <td>0.073363</td>\n",
       "      <td>-0.011152</td>\n",
       "      <td>0.056182</td>\n",
       "      <td>0.103025</td>\n",
       "      <td>0.208473</td>\n",
       "      <td>0.061996</td>\n",
       "      <td>0.247723</td>\n",
       "      <td>0.000688</td>\n",
       "    </tr>\n",
       "    <tr>\n",
       "      <th>Maize</th>\n",
       "      <td>0.168858</td>\n",
       "      <td>0.045025</td>\n",
       "      <td>0.047500</td>\n",
       "      <td>0.103505</td>\n",
       "      <td>0.203130</td>\n",
       "      <td>0.195555</td>\n",
       "      <td>0.147100</td>\n",
       "      <td>0.149083</td>\n",
       "      <td>0.074493</td>\n",
       "      <td>0.131619</td>\n",
       "      <td>0.157296</td>\n",
       "      <td>0.232135</td>\n",
       "      <td>0.277906</td>\n",
       "      <td>0.214095</td>\n",
       "    </tr>\n",
       "    <tr>\n",
       "      <th>Milk</th>\n",
       "      <td>0.269819</td>\n",
       "      <td>0.159296</td>\n",
       "      <td>0.077638</td>\n",
       "      <td>0.120299</td>\n",
       "      <td>0.086458</td>\n",
       "      <td>0.104900</td>\n",
       "      <td>0.011247</td>\n",
       "      <td>0.221282</td>\n",
       "      <td>0.102319</td>\n",
       "      <td>-0.004193</td>\n",
       "      <td>0.148538</td>\n",
       "      <td>0.164217</td>\n",
       "      <td>0.237364</td>\n",
       "      <td>-0.013747</td>\n",
       "    </tr>\n",
       "    <tr>\n",
       "      <th>Onion</th>\n",
       "      <td>0.020628</td>\n",
       "      <td>0.083072</td>\n",
       "      <td>0.181644</td>\n",
       "      <td>0.131511</td>\n",
       "      <td>0.015322</td>\n",
       "      <td>0.016468</td>\n",
       "      <td>0.036535</td>\n",
       "      <td>0.024368</td>\n",
       "      <td>0.034192</td>\n",
       "      <td>0.100229</td>\n",
       "      <td>0.150291</td>\n",
       "      <td>-0.031828</td>\n",
       "      <td>0.107824</td>\n",
       "      <td>-0.043789</td>\n",
       "    </tr>\n",
       "    <tr>\n",
       "      <th>Potato</th>\n",
       "      <td>0.075494</td>\n",
       "      <td>0.052202</td>\n",
       "      <td>0.093455</td>\n",
       "      <td>0.022081</td>\n",
       "      <td>0.030358</td>\n",
       "      <td>0.054011</td>\n",
       "      <td>0.085108</td>\n",
       "      <td>0.065097</td>\n",
       "      <td>0.047996</td>\n",
       "      <td>0.093952</td>\n",
       "      <td>0.126494</td>\n",
       "      <td>0.053551</td>\n",
       "      <td>0.123399</td>\n",
       "      <td>0.074995</td>\n",
       "    </tr>\n",
       "    <tr>\n",
       "      <th>Salt</th>\n",
       "      <td>0.069499</td>\n",
       "      <td>0.025401</td>\n",
       "      <td>0.089175</td>\n",
       "      <td>0.064990</td>\n",
       "      <td>0.043398</td>\n",
       "      <td>-0.000587</td>\n",
       "      <td>0.110582</td>\n",
       "      <td>0.071613</td>\n",
       "      <td>0.045922</td>\n",
       "      <td>0.084043</td>\n",
       "      <td>0.063061</td>\n",
       "      <td>0.093904</td>\n",
       "      <td>0.110238</td>\n",
       "      <td>0.080911</td>\n",
       "    </tr>\n",
       "    <tr>\n",
       "      <th>Sorghum</th>\n",
       "      <td>0.036787</td>\n",
       "      <td>0.016540</td>\n",
       "      <td>-0.024783</td>\n",
       "      <td>-0.033643</td>\n",
       "      <td>0.150645</td>\n",
       "      <td>0.013265</td>\n",
       "      <td>0.187029</td>\n",
       "      <td>0.084002</td>\n",
       "      <td>0.095256</td>\n",
       "      <td>0.069806</td>\n",
       "      <td>0.121875</td>\n",
       "      <td>0.256042</td>\n",
       "      <td>0.242486</td>\n",
       "      <td>0.195108</td>\n",
       "    </tr>\n",
       "    <tr>\n",
       "      <th>Sugar</th>\n",
       "      <td>0.154715</td>\n",
       "      <td>0.082592</td>\n",
       "      <td>0.136417</td>\n",
       "      <td>0.109887</td>\n",
       "      <td>0.120432</td>\n",
       "      <td>0.069063</td>\n",
       "      <td>0.086145</td>\n",
       "      <td>0.099682</td>\n",
       "      <td>0.075972</td>\n",
       "      <td>0.113577</td>\n",
       "      <td>0.046506</td>\n",
       "      <td>0.102214</td>\n",
       "      <td>0.138135</td>\n",
       "      <td>0.051752</td>\n",
       "    </tr>\n",
       "    <tr>\n",
       "      <th>Teff</th>\n",
       "      <td>-0.020147</td>\n",
       "      <td>0.118776</td>\n",
       "      <td>0.165312</td>\n",
       "      <td>0.213938</td>\n",
       "      <td>0.028188</td>\n",
       "      <td>0.065383</td>\n",
       "      <td>0.073752</td>\n",
       "      <td>0.008325</td>\n",
       "      <td>0.119804</td>\n",
       "      <td>0.190597</td>\n",
       "      <td>0.281978</td>\n",
       "      <td>0.065659</td>\n",
       "      <td>0.210661</td>\n",
       "      <td>0.056249</td>\n",
       "    </tr>\n",
       "    <tr>\n",
       "      <th>Wheat</th>\n",
       "      <td>0.156169</td>\n",
       "      <td>0.122708</td>\n",
       "      <td>0.048155</td>\n",
       "      <td>0.076260</td>\n",
       "      <td>0.133891</td>\n",
       "      <td>0.131178</td>\n",
       "      <td>0.125466</td>\n",
       "      <td>0.131630</td>\n",
       "      <td>0.203991</td>\n",
       "      <td>0.132343</td>\n",
       "      <td>0.133915</td>\n",
       "      <td>0.170824</td>\n",
       "      <td>0.179635</td>\n",
       "      <td>0.149660</td>\n",
       "    </tr>\n",
       "  </tbody>\n",
       "</table>\n",
       "</div>"
      ],
      "text/plain": [
       "                  delta                                                    \\\n",
       "k                 F 0-3   F 14-18   F 19-30   F 31-50     F 4-8     F 51+   \n",
       "i                                                                           \n",
       "Banana        -0.041680  0.135124  0.119469  0.058901 -0.062178  0.057870   \n",
       "Barley         0.060847  0.160156  0.181576  0.065316  0.003294  0.066492   \n",
       "Chat / Kat     0.183911 -0.084609 -0.012299 -0.125368  0.052870  0.051837   \n",
       "Chick Pea     -0.058922  0.076973  0.103839  0.154312  0.080259  0.109017   \n",
       "Coffee         0.049136  0.064365  0.132727  0.119389  0.000534  0.011545   \n",
       "Eggs          -0.051808  0.097252  0.140007  0.087295 -0.026832  0.132824   \n",
       "Haricot Beans  0.151469  0.093367 -0.022535  0.114972  0.178256  0.319418   \n",
       "Horsebeans     0.071565  0.102440  0.084509  0.073768  0.035107  0.101438   \n",
       "Lentils        0.033975  0.076014  0.116623  0.118979  0.031286  0.032777   \n",
       "Maize          0.168858  0.045025  0.047500  0.103505  0.203130  0.195555   \n",
       "Milk           0.269819  0.159296  0.077638  0.120299  0.086458  0.104900   \n",
       "Onion          0.020628  0.083072  0.181644  0.131511  0.015322  0.016468   \n",
       "Potato         0.075494  0.052202  0.093455  0.022081  0.030358  0.054011   \n",
       "Salt           0.069499  0.025401  0.089175  0.064990  0.043398 -0.000587   \n",
       "Sorghum        0.036787  0.016540 -0.024783 -0.033643  0.150645  0.013265   \n",
       "Sugar          0.154715  0.082592  0.136417  0.109887  0.120432  0.069063   \n",
       "Teff          -0.020147  0.118776  0.165312  0.213938  0.028188  0.065383   \n",
       "Wheat          0.156169  0.122708  0.048155  0.076260  0.133891  0.131178   \n",
       "\n",
       "                                                                           \\\n",
       "k                F 9-13     M 0-3   M 14-18   M 19-30   M 31-50     M 4-8   \n",
       "i                                                                           \n",
       "Banana        -0.020986  0.028977  0.019001  0.092642  0.227240 -0.055562   \n",
       "Barley         0.131837  0.046245  0.138875  0.099159  0.059256  0.011783   \n",
       "Chat / Kat     0.061692  0.038726  0.014287  0.207572  0.251498  0.116725   \n",
       "Chick Pea      0.111385  0.014251  0.096653  0.132291  0.201317  0.077510   \n",
       "Coffee         0.008041 -0.007486 -0.013776  0.122627  0.101183  0.044945   \n",
       "Eggs          -0.002785  0.057078  0.057878  0.092305  0.179983 -0.064904   \n",
       "Haricot Beans  0.101808  0.120848  0.153752  0.144374  0.068811  0.139900   \n",
       "Horsebeans     0.080538  0.036428  0.068877  0.159912  0.099053  0.095341   \n",
       "Lentils        0.073363 -0.011152  0.056182  0.103025  0.208473  0.061996   \n",
       "Maize          0.147100  0.149083  0.074493  0.131619  0.157296  0.232135   \n",
       "Milk           0.011247  0.221282  0.102319 -0.004193  0.148538  0.164217   \n",
       "Onion          0.036535  0.024368  0.034192  0.100229  0.150291 -0.031828   \n",
       "Potato         0.085108  0.065097  0.047996  0.093952  0.126494  0.053551   \n",
       "Salt           0.110582  0.071613  0.045922  0.084043  0.063061  0.093904   \n",
       "Sorghum        0.187029  0.084002  0.095256  0.069806  0.121875  0.256042   \n",
       "Sugar          0.086145  0.099682  0.075972  0.113577  0.046506  0.102214   \n",
       "Teff           0.073752  0.008325  0.119804  0.190597  0.281978  0.065659   \n",
       "Wheat          0.125466  0.131630  0.203991  0.132343  0.133915  0.170824   \n",
       "\n",
       "                                   \n",
       "k                 M 51+    M 9-13  \n",
       "i                                  \n",
       "Banana         0.065332 -0.074827  \n",
       "Barley        -0.016253 -0.028107  \n",
       "Chat / Kat     0.226806  0.041379  \n",
       "Chick Pea      0.198193  0.095822  \n",
       "Coffee         0.103896 -0.063190  \n",
       "Eggs           0.120536 -0.025731  \n",
       "Haricot Beans  0.225381  0.123124  \n",
       "Horsebeans     0.160418  0.103697  \n",
       "Lentils        0.247723  0.000688  \n",
       "Maize          0.277906  0.214095  \n",
       "Milk           0.237364 -0.013747  \n",
       "Onion          0.107824 -0.043789  \n",
       "Potato         0.123399  0.074995  \n",
       "Salt           0.110238  0.080911  \n",
       "Sorghum        0.242486  0.195108  \n",
       "Sugar          0.138135  0.051752  \n",
       "Teff           0.210661  0.056249  \n",
       "Wheat          0.179635  0.149660  "
      ]
     },
     "execution_count": 6,
     "metadata": {},
     "output_type": "execute_result"
    }
   ],
   "source": [
    "r.delta.to_dataframe().unstack('k').dropna()"
   ]
  },
  {
   "cell_type": "markdown",
   "metadata": {},
   "source": [
    "The triple of paramters $(\\alpha,\\beta,\\delta)$ completely describes\n",
    "the demand system and the corresponding utility function (over the\n",
    "goods we observe).\n",
    "\n"
   ]
  },
  {
   "cell_type": "markdown",
   "metadata": {},
   "source": [
    "## Demands\n",
    "\n"
   ]
  },
  {
   "cell_type": "markdown",
   "metadata": {},
   "source": [
    "As mentioned above, we&rsquo;ve estimated the parameters of a Frischian\n",
    "demand system (demands that depend on prices and the households\n",
    "marginal utility of expenditures).  But we can *compute* the\n",
    "corresponding Marshallian (depends on prices and budget) or Hicksian\n",
    "(depends on prices and the level of utility) demands for this same\n",
    "population, using the `cfe.Result.demands` method.  \n",
    "\n",
    "Let&rsquo;s compute Marshallian demands.  Start with a choice of budget $x$\n",
    "and prices.  We&rsquo;ll use the earliest prices, and focus on\n",
    "the first market we&rsquo;re interested in.\n",
    "\n"
   ]
  },
  {
   "cell_type": "code",
   "execution_count": 7,
   "metadata": {},
   "outputs": [
    {
     "name": "stderr",
     "output_type": "stream",
     "text": [
      "/srv/app/venv/lib/python3.6/site-packages/xarray/core/nanops.py:142: RuntimeWarning: Mean of empty slice\n",
      "  return np.nanmean(a, axis=axis, dtype=dtype)\n",
      "/srv/app/venv/lib/python3.6/site-packages/xarray/core/nputils.py:215: RuntimeWarning: Degrees of freedom <= 0 for slice.\n",
      "  result = getattr(npmodule, name)(values, axis=axis, **kwargs)\n"
     ]
    }
   ],
   "source": [
    "t = r.firstround  # First round\n",
    "m = r.coords['m'][0] # First market\n",
    "\n",
    "x = r.get_predicted_expenditures().sum('i')\n",
    "medianx = x.where(x>0).sel(t=t,m=m).median('j').values # Budget (median household)"
   ]
  },
  {
   "cell_type": "markdown",
   "metadata": {},
   "source": [
    "Now compute expenditures on different items.  The object `r` already knows what the estimated\n",
    "parameters are, and uses those automatically:\n",
    "\n"
   ]
  },
  {
   "cell_type": "code",
   "execution_count": 8,
   "metadata": {},
   "outputs": [
    {
     "data": {
      "text/plain": [
       "i\n",
       "Banana             4.817525\n",
       "Barley            76.746701\n",
       "Chat / Kat        13.900936\n",
       "Chick Pea         27.721953\n",
       "Coffee             6.070387\n",
       "Eggs               2.727390\n",
       "Haricot Beans     14.995097\n",
       "Horsebeans        19.328798\n",
       "Lentils            6.938170\n",
       "Maize             35.179968\n",
       "Milk               5.571496\n",
       "Onion              4.168791\n",
       "Potato             3.133966\n",
       "Salt               1.978220\n",
       "Sorghum          112.220420\n",
       "Sugar              8.222924\n",
       "Teff              13.532824\n",
       "Wheat             97.082992\n",
       "Name: quantities, dtype: float64"
      ]
     },
     "execution_count": 8,
     "metadata": {},
     "output_type": "execute_result"
    }
   ],
   "source": [
    "xbar=r.demands(medianx) # Expenditures given median budget\n",
    "xbar"
   ]
  },
  {
   "cell_type": "code",
   "execution_count": null,
   "metadata": {},
   "outputs": [],
   "source": []
  },
  {
   "cell_type": "markdown",
   "metadata": {},
   "source": [
    "So we can compute expenditures, but these are in units of Rupees.\n",
    "We can get into physical units (say kilograms) by dividing chick pea\n",
    "expenditures by the price per kg in a given time and place:\n",
    "\n"
   ]
  },
  {
   "cell_type": "code",
   "execution_count": 15,
   "metadata": {},
   "outputs": [
    {
     "data": {
      "text/plain": [
       "1.3895114059452724"
      ]
     },
     "execution_count": 15,
     "metadata": {},
     "output_type": "execute_result"
    }
   ],
   "source": [
    "USE_GOOD = 'Chick Pea'\n",
    "    \n",
    "# Reference prices for kgs at time t in market m\n",
    "ref_price = r.prices.sel(t=t,m=m,u='Kg')\n",
    "\n",
    "r.demands(medianx)[USE_GOOD]/ref_price.loc[USE_GOOD].values"
   ]
  },
  {
   "cell_type": "markdown",
   "metadata": {},
   "source": [
    "Now we can trace out demands for a household with median budget but\n",
    "varying prices of chick peas (holding other prices fixed):\n",
    "\n"
   ]
  },
  {
   "cell_type": "code",
   "execution_count": 13,
   "metadata": {},
   "outputs": [
    {
     "data": {
      "text/plain": [
       "Text(0, 0.5, 'Price Scale')"
      ]
     },
     "execution_count": 13,
     "metadata": {},
     "output_type": "execute_result"
    },
    {
     "data": {
      "image/png": "[encoded data removed]",
      "text/plain": [
       "<Figure size 432x288 with 1 Axes>"
      ]
     },
     "metadata": {
      "needs_background": "light"
     },
     "output_type": "display_data"
    }
   ],
   "source": [
    "import numpy as np\n",
    "import matplotlib.pyplot as plt\n",
    "%matplotlib inline\n",
    "\n",
    "# Scales of prices:\n",
    "# Scales of prices:\n",
    "P = np.linspace(1,10,100).tolist()\n",
    "\n",
    "plt.plot([r.demands(medianx,p={USE_GOOD:scale})[USE_GOOD]/ref_price.loc[USE_GOOD].values for scale in P],P)\n",
    "\n",
    "plt.xlabel(\"%s in Kgs\" % USE_GOOD)\n",
    "plt.ylabel('Price Scale')"
   ]
  },
  {
   "cell_type": "markdown",
   "metadata": {},
   "source": [
    "Let&rsquo;s trace out demands for different budgets:\n",
    "\n"
   ]
  },
  {
   "cell_type": "code",
   "execution_count": 16,
   "metadata": {},
   "outputs": [
    {
     "data": {
      "text/plain": [
       "<matplotlib.legend.Legend at 0x7f4bba385ac8>"
      ]
     },
     "execution_count": 16,
     "metadata": {},
     "output_type": "execute_result"
    },
    {
     "data": {
      "image/png": "[encoded data removed]",
      "text/plain": [
       "<Figure size 432x288 with 1 Axes>"
      ]
     },
     "metadata": {
      "needs_background": "light"
     },
     "output_type": "display_data"
    }
   ],
   "source": [
    "import numpy as np\n",
    "import matplotlib.pyplot as plt\n",
    "%matplotlib inline\n",
    "\n",
    "X = [medianx*s for s in [.25,.5,1.,2,4]]\n",
    "for myx in X:\n",
    "    plt.plot([r.demands(myx,p={USE_GOOD:scale})[USE_GOOD]/ref_price.loc[USE_GOOD].values for scale in P],P)\n",
    "\n",
    "plt.xlabel(\"%s in Kgs\" % USE_GOOD)\n",
    "plt.ylabel('Price Scale')\n",
    "plt.legend(X)"
   ]
  }
 ],
 "metadata": {
  "kernelspec": {
   "display_name": "Python 3",
   "language": "python",
   "name": "python3"
  },
  "language_info": {
   "codemirror_mode": {
    "name": "ipython",
    "version": 3
   },
   "file_extension": ".py",
   "mimetype": "text/x-python",
   "name": "python",
   "nbconvert_exporter": "python",
   "pygments_lexer": "ipython3",
   "version": "3.6.9"
  },
  "org": null
 },
 "nbformat": 4,
 "nbformat_minor": 1
}
