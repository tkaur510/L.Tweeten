{
 "cells": [
  {
   "cell_type": "markdown",
   "metadata": {},
   "source": [
    "## Preface\n",
    "\n"
   ]
  },
  {
   "cell_type": "markdown",
   "metadata": {},
   "source": [
    "First, if you don&rsquo;t already have the latest version of the `cfe` package\n",
    "installed, grab it, along with some dependencies:\n",
    "\n"
   ]
  },
  {
   "cell_type": "code",
   "execution_count": 1,
   "metadata": {},
   "outputs": [
    {
     "name": "stdout",
     "output_type": "stream",
     "text": [
      "Requirement already up-to-date: CFEDemands in /home/ethanligon/anaconda3/lib/python3.7/site-packages (0.2.6.dev0)\n",
      "Requirement already up-to-date: xarray in /home/ethanligon/anaconda3/lib/python3.7/site-packages (0.15.1)\n",
      "Requirement already satisfied, skipping upgrade: setuptools>=41.2 in /home/ethanligon/anaconda3/lib/python3.7/site-packages (from xarray) (46.1.1.post20200323)\n",
      "Requirement already satisfied, skipping upgrade: pandas>=0.25 in /home/ethanligon/anaconda3/lib/python3.7/site-packages (from xarray) (1.0.3)\n",
      "Requirement already satisfied, skipping upgrade: numpy>=1.15 in /home/ethanligon/anaconda3/lib/python3.7/site-packages (from xarray) (1.18.1)\n",
      "Requirement already satisfied, skipping upgrade: python-dateutil>=2.6.1 in /home/ethanligon/anaconda3/lib/python3.7/site-packages (from pandas>=0.25->xarray) (2.8.1)\n",
      "Requirement already satisfied, skipping upgrade: pytz>=2017.2 in /home/ethanligon/anaconda3/lib/python3.7/site-packages (from pandas>=0.25->xarray) (2019.3)\n",
      "Requirement already satisfied, skipping upgrade: six>=1.5 in /home/ethanligon/anaconda3/lib/python3.7/site-packages (from python-dateutil>=2.6.1->pandas>=0.25->xarray) (1.14.0)\n",
      "Requirement already satisfied: h5netcdf in /home/ethanligon/anaconda3/lib/python3.7/site-packages (0.8.0)\n",
      "Requirement already satisfied: h5py in /home/ethanligon/anaconda3/lib/python3.7/site-packages (from h5netcdf) (2.10.0)\n",
      "Requirement already satisfied: numpy>=1.7 in /home/ethanligon/anaconda3/lib/python3.7/site-packages (from h5py->h5netcdf) (1.18.1)\n",
      "Requirement already satisfied: six in /home/ethanligon/anaconda3/lib/python3.7/site-packages (from h5py->h5netcdf) (1.14.0)\n"
     ]
    }
   ],
   "source": [
    "!pip install CFEDemands --upgrade --pre\n",
    "!pip install xarray --upgrade\n",
    "!pip install h5netcdf"
   ]
  },
  {
   "cell_type": "markdown",
   "metadata": {},
   "source": [
    "Second, load relevant dataset:\n",
    "\n"
   ]
  },
  {
   "cell_type": "code",
   "execution_count": 2,
   "metadata": {},
   "outputs": [
    {
     "name": "stderr",
     "output_type": "stream",
     "text": [
      "/home/ethanligon/anaconda3/lib/python3.7/typing.py:845: FutureWarning: xarray subclass Result should explicitly define __slots__\n",
      "  super().__init_subclass__(*args, **kwargs)\n"
     ]
    }
   ],
   "source": [
    "import cfe\n",
    "\n",
    "# Results can be made persistent by saving them, and then re-loading...\n",
    "r = cfe.from_dataset('./Indian ICRISAT_small.ds')\n",
    "\n",
    "r['alpha'] = r.alpha.loc[r.alpha>0]  # Insist on alpha positive"
   ]
  },
  {
   "cell_type": "markdown",
   "metadata": {},
   "source": [
    "## Choosing reference prices, budget, and units\n",
    "\n"
   ]
  },
  {
   "cell_type": "markdown",
   "metadata": {},
   "source": [
    "We&rsquo;ll want to choose reference prices (a choice of `t` and `m`) and\n",
    "units (`u`).  You can examine possibilities by looking at:\n",
    "\n"
   ]
  },
  {
   "cell_type": "code",
   "execution_count": 3,
   "metadata": {},
   "outputs": [
    {
     "data": {
      "text/plain": [
       "Coordinates:\n",
       "  * i        (i) object '2G' '4K' '5B' 'AB' 'AN' ... 'ZA' 'ZB' 'ZF' 'ZJ' 'ZK'\n",
       "  * t        (t) int64 75 76 77 78 79 80 81 82 83 84\n",
       "  * m        (m) object 'A' 'B' 'C' 'D' 'E' 'F'\n",
       "  * u        (u) object '.' '1' '5' 'G' 'Hours' 'Hundreds' 'Kilograms'"
      ]
     },
     "execution_count": 3,
     "metadata": {},
     "output_type": "execute_result"
    }
   ],
   "source": [
    "r.prices.coords"
   ]
  },
  {
   "cell_type": "markdown",
   "metadata": {},
   "source": [
    "Below we choose first market in first period, but this is a matter of\n",
    "choice.  We also choose prices for goods measured in &rsquo;Kilograms&rsquo;; this\n",
    "may vary with the dataset.  To inspect possible units look at:\n",
    "\n"
   ]
  },
  {
   "cell_type": "code",
   "execution_count": 4,
   "metadata": {},
   "outputs": [
    {
     "name": "stderr",
     "output_type": "stream",
     "text": [
      "/home/ethanligon/anaconda3/lib/python3.7/site-packages/xarray/core/nanops.py:142: RuntimeWarning: Mean of empty slice\n",
      "  return np.nanmean(a, axis=axis, dtype=dtype)\n"
     ]
    },
    {
     "data": {
      "text/plain": [
       "i\n",
       "Bajra/Pearl millet (HYV)               1.296154\n",
       "Bajra/Pearl millet (Local variety)     1.279162\n",
       "Bengalgram (Chenna)/Chickpea           3.164902\n",
       "Bengalgram dhal                        6.855503\n",
       "Blackgram (Urad)                       5.000000\n",
       "Blackgram dhal                         7.329897\n",
       "Bullocks                               2.500000\n",
       "Castor                                 1.510760\n",
       "Castor (HYV)                           3.356959\n",
       "Chillies                               2.339487\n",
       "Coconut                                8.837209\n",
       "Coffee                                44.000000\n",
       "Cosmetics tooth paste etc.            29.793103\n",
       "Cowpea                                 2.000000\n",
       "Edible oils                            7.590522\n",
       "Fish                                   4.000000\n",
       "Ghee                                  14.748448\n",
       "Goat                                  13.717098\n",
       "Greengram (Mung)                       3.787879\n",
       "Greengram dhal                         6.514772\n",
       "Groundnut oil                          8.000000\n",
       "Gur (jaggery)                          2.428749\n",
       "Jowar/Sorghum (Local variety)          1.344647\n",
       "Milk                                   7.900000\n",
       "Onion                                  0.972300\n",
       "Other Food                             0.800000\n",
       "Other consumption                      4.166667\n",
       "Other pulses                           1.496667\n",
       "Other spices                           0.353038\n",
       "Other vegetables                       0.998675\n",
       "Paddy (HYV)                            1.290060\n",
       "Paddy (Local variety)                  1.264918\n",
       "Poultry birds                         11.212654\n",
       "Redgram (Tur)/Pigeonpea                2.976878\n",
       "Redgram dhal                           5.409195\n",
       "Rice (HYV variety)                     2.258114\n",
       "Safflower oil                          9.488009\n",
       "Sheep                                  7.283582\n",
       "Sugar                                  3.275923\n",
       "Tea                                   14.918605\n",
       "Tobacco, beedi                        18.888372\n",
       "Wheat (HYV)                            2.906486\n",
       "Wheat (Local variety)                  2.833333\n",
       "Name: prices, dtype: float64"
      ]
     },
     "execution_count": 4,
     "metadata": {},
     "output_type": "execute_result"
    }
   ],
   "source": [
    "t = r.firstround  # First round\n",
    "m = r.coords['m'][0] # First market\n",
    "\n",
    "# Get median budget\n",
    "x = r.get_predicted_expenditures().sum('i')\n",
    "medianx = x.where(x>0).sel(t=t,m=m).median('j').values\n",
    "\n",
    "# Note selection of prices for first market in first period for /kgs/.\n",
    "# For goods never measured in kgs prices will be missing. \n",
    "p = r.prices.sel(t=75,m='A',u='Kilograms',drop=True).to_dataframe().squeeze().dropna()\n",
    "p"
   ]
  },
  {
   "cell_type": "markdown",
   "metadata": {},
   "source": [
    "And with $(x,p)$ defined we can calculate example demands:\n",
    "\n"
   ]
  },
  {
   "cell_type": "code",
   "execution_count": 5,
   "metadata": {},
   "outputs": [
    {
     "data": {
      "text/plain": [
       "i\n",
       "Bengalgram dhal                   3.590749\n",
       "Chillies                          0.882474\n",
       "Coconut                           0.509505\n",
       "Cosmetics tooth paste etc.        0.414034\n",
       "Gur (jaggery)                     7.723045\n",
       "Jowar/Sorghum (Local variety)     3.818556\n",
       "Milk                             20.508271\n",
       "Other spices                     20.102816\n",
       "Other vegetables                  6.431510\n",
       "Redgram dhal                     22.178645\n",
       "Sugar                             7.174740\n",
       "Tea                               0.867074\n",
       "Tobacco, beedi                    0.189597\n",
       "dtype: float64"
      ]
     },
     "execution_count": 5,
     "metadata": {},
     "output_type": "execute_result"
    }
   ],
   "source": [
    "# Expenditures divided by reference prices per Kilogram\n",
    "c=(r.demands(medianx)/p).dropna()\n",
    "c"
   ]
  },
  {
   "cell_type": "markdown",
   "metadata": {},
   "source": [
    "## Mapping to Nutrients\n",
    "\n"
   ]
  },
  {
   "cell_type": "markdown",
   "metadata": {},
   "source": [
    "We&rsquo;ve seen how to map prices and budgets into vectors of consumption\n",
    "quantities using `cfe.Result.demands`.  Next we want to think about\n",
    "how to map these into bundles of *nutrients*.  The information needed\n",
    "for the mapping comes from a &ldquo;Food Conversion Table&rdquo; (or database,\n",
    "such as the [USDA Food Central Database](https://fdc.nal.usda.gov/)).   Here we&rsquo;ve adapted (with\n",
    "thanks to Alessandro Tarozzi of the Universitat Pompeu Fabra) a food\n",
    "conversion table developed by Gopalan et al (1980) to the foods\n",
    "reported in the Indian ICRISAT data:\n",
    "\n"
   ]
  },
  {
   "cell_type": "code",
   "execution_count": 6,
   "metadata": {},
   "outputs": [
    {
     "data": {
      "text/plain": [
       "Index(['Protein', 'Fat', 'fibre', 'carbohydrate', 'Calories', 'energy_kj',\n",
       "       'Calcium', 'Iron', 'Betacarotene', 'caroten_total', 'Thiamine',\n",
       "       'Riboflavin', 'Niacin', 'Ascorbic Acid', 'pu_cal', 'pu_prot', 'pu_fat'],\n",
       "      dtype='object')"
      ]
     },
     "execution_count": 6,
     "metadata": {},
     "output_type": "execute_result"
    }
   ],
   "source": [
    "import pandas as pd\n",
    "import numpy as np\n",
    "\n",
    "# The function below adapted from Gianmario Spacagna's suggestion at\n",
    "# https://stackoverflow.com/questions/19611729/getting-google-spreadsheet-csv-into-a-pandas-dataframe\n",
    "def dataframe_from_gspreadsheet(sheet_name, key):\n",
    "    \"\"\"Transform public google spreadsheet into pandas.DataFrame.\"\"\"\n",
    "    \n",
    "    url = 'https://docs.google.com/spreadsheets/d/{key}/gviz/tq?tqx=out:csv&sheet={sheet_name}&headers=1'.format(\n",
    "        key=key, sheet_name=sheet_name.replace(' ', '%20'))\n",
    "\n",
    "    df = pd.read_csv(url)\n",
    "\n",
    "    return df.drop([col for col in df.columns if col.startswith('Unnamed')], axis=1)\n",
    "\n",
    "# Change 'ICRISAT' sheet id to that of your own sheet\n",
    "fct = dataframe_from_gspreadsheet(\"FCT\", '13Ig5hZif-NSHtgkKRp_cEgKXk0lOsdUB2BAD6O_FnRo')\n",
    "\n",
    "\n",
    "# Change some labels\n",
    "d={'protein':'Protein',\n",
    "   'protein g':'Protein',\n",
    "   'fat':'Fat',\n",
    "   'energy_kcal':'Calories',\n",
    "   'energy kcal':'Calories',\n",
    "   'calcium':'Calcium',\n",
    "   'ca mg':'Calcium',\n",
    "   'betacarotene':'Betacarotene',\n",
    "   'thiamine':'Thiamine',\n",
    "   'riboflavin':'Riboflavin',\n",
    "   'niacin':'Niacin',\n",
    "   'iron':'Iron',\n",
    "   'fe mg':'Iron',\n",
    "   'ascorbic_total':'Ascorbic Acid',\n",
    "   'vit a ug':'Vitamin A',\n",
    "   'vit b6 mg':'Vitamin B6',\n",
    "   'vit b12 ug':'Vitamin B12',\n",
    "   'vit d ug':'Vitamin D',\n",
    "   'vit e ug':'Vitamin E',\n",
    "   'vit c mg':'Vitamin C',\n",
    "   'mg mg':'Magnesium',\n",
    "   'zn mg':'Zinc'}\n",
    "\n",
    "fct = fct.rename(columns=d) #[list(d.values())]\n",
    "\n",
    "# Fix capitalization (to match food labels)\n",
    "fct.index = fct.reset_index()['i'].str.title()\n",
    "del fct['i']\n",
    "del fct['ext_source']\n",
    "\n",
    "# Replace missing with zeros\n",
    "fct = fct.fillna(0)\n",
    "\n",
    "try:\n",
    "    fct.index = fct.index.droplevel('u')\n",
    "except (AttributeError,KeyError):\n",
    "    pass # No units?\n",
    "\n",
    "fct.columns"
   ]
  },
  {
   "cell_type": "markdown",
   "metadata": {},
   "source": [
    "We need the index of the Food Conversion Table (FCT) to match up with\n",
    "the index of the vector of quantities demanded.   To manage this we\n",
    "make use of the `align` method for `pd.DataFrames`:\n",
    "\n"
   ]
  },
  {
   "cell_type": "code",
   "execution_count": 7,
   "metadata": {},
   "outputs": [
    {
     "name": "stdout",
     "output_type": "stream",
     "text": [
      "Index(['Milk', 'Sugar', 'Chillies', 'Coconut', 'Tea'], dtype='object', name='i')\n"
     ]
    }
   ],
   "source": [
    "# Create a new FCT and vector of consumption that only share rows in common:\n",
    "fct0,c0 = fct.align(c,axis=0,join='inner')\n",
    "print(fct0.index)"
   ]
  },
  {
   "cell_type": "markdown",
   "metadata": {},
   "source": [
    "Now, since rows of `fct0` and `c0` match, we can obtain nutritional\n",
    "outcomes from the inner (or dot, or matrix) product of the transposed\n",
    "`fct0` and `c0`:\n",
    "\n"
   ]
  },
  {
   "cell_type": "code",
   "execution_count": 8,
   "metadata": {},
   "outputs": [
    {
     "data": {
      "text/plain": [
       "Protein             824.085160\n",
       "Fat                2094.165970\n",
       "fibre                47.403025\n",
       "carbohydrate       7157.233005\n",
       "Calories          40883.278418\n",
       "energy_kj        171170.112863\n",
       "Calcium           32658.871769\n",
       "Iron                376.255733\n",
       "Betacarotene       3907.927772\n",
       "caroten_total     54334.008697\n",
       "Thiamine              9.831888\n",
       "Riboflavin           24.288054\n",
       "Niacin               25.848429\n",
       "Ascorbic Acid      1242.766707\n",
       "pu_cal            49655.924914\n",
       "pu_prot             856.510997\n",
       "pu_fat             1472.666907\n",
       "dtype: float64"
      ]
     },
     "execution_count": 8,
     "metadata": {},
     "output_type": "execute_result"
    }
   ],
   "source": [
    "# The @ operator means matrix multiply\n",
    "N = fct0.T@c0\n",
    "N"
   ]
  },
  {
   "cell_type": "markdown",
   "metadata": {},
   "source": [
    "Of course, since we can compute the nutritional content of a vector of\n",
    "consumption goods `c0`, we can also use our demand functions to\n",
    "compute nutrition as a *function* of prices and budget.\n",
    "\n"
   ]
  },
  {
   "cell_type": "code",
   "execution_count": 9,
   "metadata": {},
   "outputs": [],
   "source": [
    "def nutrient_demand(x,pscale=None,p=p):\n",
    "    c = (r.demands(x,p=pscale)/p).dropna()\n",
    "    fct0,c0 = fct.align(c,axis=0,join='inner')\n",
    "    N = fct0.T@c0\n",
    "\n",
    "    return N"
   ]
  },
  {
   "cell_type": "markdown",
   "metadata": {},
   "source": [
    "With this `nutrient_demand` function in hand, we can see how nutrient\n",
    "outcomes vary with budget, given prices:\n",
    "\n"
   ]
  },
  {
   "cell_type": "code",
   "execution_count": 10,
   "metadata": {},
   "outputs": [
    {
     "data": {
      "text/plain": [
       "Text(0, 0.5, 'log nutrient')"
      ]
     },
     "execution_count": 10,
     "metadata": {},
     "output_type": "execute_result"
    },
    {
     "data": {
      "image/png": "[encoded data removed]",
      "text/plain": [
       "<Figure size 432x288 with 1 Axes>"
      ]
     },
     "metadata": {
      "needs_background": "light"
     },
     "output_type": "display_data"
    }
   ],
   "source": [
    "import numpy as np\n",
    "import matplotlib.pyplot as plt\n",
    "\n",
    "X = np.linspace(medianx/5,medianx*5,50).tolist()\n",
    "\n",
    "UseNutrients = ['Protein','Calories','Iron','Calcium']\n",
    "\n",
    "# Use reference prices\n",
    "logN={}\n",
    "for myx in X:\n",
    "    logN[myx] = np.log(nutrient_demand(myx)[UseNutrients])\n",
    "    \n",
    "logN = pd.concat(logN,axis=1).T\n",
    "\n",
    "plt.plot(X,logN)\n",
    "plt.legend(UseNutrients)\n",
    "plt.xlabel('log budget')\n",
    "plt.ylabel('log nutrient')"
   ]
  },
  {
   "cell_type": "markdown",
   "metadata": {},
   "source": [
    "Now how does nutrition vary with prices at median income?\n",
    "\n"
   ]
  },
  {
   "cell_type": "code",
   "execution_count": 11,
   "metadata": {},
   "outputs": [
    {
     "data": {
      "text/plain": [
       "Text(0, 0.5, 'log Nutrient')"
      ]
     },
     "execution_count": 11,
     "metadata": {},
     "output_type": "execute_result"
    },
    {
     "data": {
      "image/png": "[encoded data removed]",
      "text/plain": [
       "<Figure size 432x288 with 1 Axes>"
      ]
     },
     "metadata": {
      "needs_background": "light"
     },
     "output_type": "display_data"
    }
   ],
   "source": [
    "# Choose some good from your dataset\n",
    "USE_GOOD = 'Milk'\n",
    "\n",
    "P = np.linspace(1,5,20).tolist()\n",
    "\n",
    "plt.plot(P,pd.concat({p0:np.log(nutrient_demand(medianx,pscale={USE_GOOD:p0})[UseNutrients]) for p0 in P},axis=1).T)\n",
    "plt.legend(UseNutrients)\n",
    "plt.xlabel('Price')\n",
    "plt.ylabel('log Nutrient')"
   ]
  }
 ],
 "metadata": {
  "kernelspec": {
   "display_name": "Python 3",
   "language": "python",
   "name": "python3"
  },
  "language_info": {
   "codemirror_mode": {
    "name": "ipython",
    "version": 3
   },
   "file_extension": ".py",
   "mimetype": "text/x-python",
   "name": "python",
   "nbconvert_exporter": "python",
   "pygments_lexer": "ipython3",
   "version": "3.7.4"
  },
  "org": null
 },
 "nbformat": 4,
 "nbformat_minor": 1
}
